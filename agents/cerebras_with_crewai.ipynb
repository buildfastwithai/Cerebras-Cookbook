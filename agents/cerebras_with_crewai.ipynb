{
  "cells": [
    {
      "cell_type": "markdown",
      "metadata": {
        "id": "qDZr9Mmm0XOk"
      },
      "source": [
        "<div style=\"display: flex; align-items: center; gap: 40px;\">\n",
        "<img src=\"https://encrypted-tbn0.gstatic.com/images?q=tbn:ANd9GcSkez75fZoo82SccEXRMVRlj9sZsQifRUhURQ&s\" width=\"230\">\n",
        "<img src=\"https://encrypted-tbn0.gstatic.com/images?q=tbn:ANd9GcQtg029pb---rde55bLC81UxjtTfNcVz06_7g&s\" width=\"130\">\n",
        "\n",
        "\n",
        "\n",
        "\n",
        "\n",
        "\n",
        "\n",
        "\n",
        "\n",
        "\n",
        "\n",
        "<div>\n",
        "  <h2>Cerebras Inference </h2>\n",
        "  <p>Cerebras Systems builds the world's largest computer chip - the Wafer Scale Engine (WSE) - designed specifically for AI workloads. This cookbook provides comprehensive examples, tutorials, and best practices for developing and deploying AI models using Cerebras infrastructure, including both training on WSE clusters and fast inference via Cerebras Cloud.\n",
        "</p>\n",
        "\n",
        "## What is CrewAI?\n",
        "\n",
        "CrewAI is a framework for orchestrating role-playing, autonomous AI agents. By fostering collaborative intelligence, CrewAI empowers agents to work together seamlessly, tackling complex tasks through specialized roles and coordinated workflows."
      ]
    },
    {
      "cell_type": "markdown",
      "metadata": {},
      "source": [
        "[![Open In Colab](https://colab.research.google.com/assets/colab-badge.svg)](https://colab.research.google.com/drive/1wHRJyyX1v2BAk1pwQbKMpjvBqxmiQFv_?usp=sharing)\n"
      ]
    },
    {
      "cell_type": "markdown",
      "metadata": {
        "id": "8cqsFhXpLakH"
      },
      "source": [
        "## Get Your API Keys\n",
        "\n",
        "Before you begin, make sure you have:\n",
        "\n",
        "1. A CEREBRAS API key (Get yours at [CEREBRAS API page](https://cloud.cerebras.ai/))\n",
        "2. Basic familiarity with Python and Jupyter notebooks\n",
        "\n",
        "This notebook is designed to run in Google Colab, so no local Python installation is required."
      ]
    },
    {
      "cell_type": "markdown",
      "metadata": {
        "id": "DHON8F8KLSLJ"
      },
      "source": [
        "#SUTRA using CrewAI"
      ]
    },
    {
      "cell_type": "markdown",
      "metadata": {
        "id": "dvrlN_vE0XOo"
      },
      "source": [
        "### Setup and Installation\n",
        "\n",
        "First, let's install the required packages:"
      ]
    },
    {
      "cell_type": "code",
      "execution_count": null,
      "metadata": {
        "collapsed": true,
        "id": "AZqLLqJGb9Z0"
      },
      "outputs": [],
      "source": [
        "!pip install openai crewai crewai-tools langchain langchain_openai"
      ]
    },
    {
      "cell_type": "markdown",
      "metadata": {
        "id": "Uo2nUaEV0XOq"
      },
      "source": [
        "## Setting up Environment Variables\n",
        "\n",
        "You'll need to set up your API keys. For security reasons, it's best to use environment variables:"
      ]
    },
    {
      "cell_type": "code",
      "execution_count": null,
      "metadata": {
        "id": "mI1gOw6A0XOq"
      },
      "outputs": [],
      "source": [
        "import os\n",
        "from google.colab import userdata\n",
        "\n",
        "# Set the API key from Colab secrets\n",
        "os.environ[\"CEREBRAS_API_KEY\"] = userdata.get(\"CEREBRAS_API_KEY\")\n",
        "os.environ[\"TAVILY_API_KEY\"] = userdata.get(\"Tavily_API_Key\")"
      ]
    },
    {
      "cell_type": "markdown",
      "metadata": {
        "id": "cDqyCpJh0XOr"
      },
      "source": [
        "## Basic Usage of Cerebras with OpenAI Client\n",
        "\n",
        "Let's first see how to use Cerebras with the standard OpenAI client:"
      ]
    },
    {
      "cell_type": "code",
      "execution_count": null,
      "metadata": {
        "id": "EZ3yRQa_0XOr"
      },
      "outputs": [],
      "source": [
        "from openai import OpenAI\n",
        "\n",
        "\n",
        "# Initialize the client with Sutra's API endpoint\n",
        "client = OpenAI(\n",
        "    base_url='https://api.cerebras.ai/v1',\n",
        "    api_key=os.environ[\"CEREBRAS_API_KEY\"]\n",
        ")\n",
        "\n",
        "\n",
        "# Simple completion with Sutra\n",
        "response = client.chat.completions.create(\n",
        "    model=\"gpt-oss-120b\",  # Use Sutra model\n",
        "    messages=[\n",
        "        {\"role\": \"system\", \"content\": \"You are a helpful assistant that specializes in Indian languages and culture.\"},\n",
        "        {\"role\": \"user\", \"content\": \"Tell me about the importance of the Ganga river in Indian culture.\"}\n",
        "    ]\n",
        ")\n",
        "\n",
        "print(response.choices[0].message.content)"
      ]
    },
    {
      "cell_type": "markdown",
      "metadata": {
        "id": "u_J18WjErleb"
      },
      "source": [
        "###Basic Example :- AI Research Assistant"
      ]
    },
    {
      "cell_type": "code",
      "execution_count": null,
      "metadata": {
        "id": "ajANRe_0rni7"
      },
      "outputs": [],
      "source": [
        "import os\n",
        "from crewai import Agent, Task, Crew, Process\n",
        "from crewai import LLM\n",
        "\n",
        "# Step 1: Set up your custom Cerebras model\n",
        "llm = LLM(\n",
        "    model=\"cerebras/gpt-oss-120b\",\n",
        "    base_url='https://api.cerebras.ai/v1',\n",
        "    api_key=os.environ[\"CEREBRAS_API_KEY\"]\n",
        ")\n",
        "\n",
        "# Step 2: Define an agent using this LLM\n",
        "research_agent = Agent(\n",
        "    role=\"AI Research Assistant\",\n",
        "    goal=\"Provide detailed and accurate insights on AI trends\",\n",
        "    backstory=\"You are a top-tier AI researcher, known for your expertise and clarity.\",\n",
        "    llm=llm,  # Use the custom Sutra model\n",
        "    verbose=True\n",
        ")\n",
        "\n",
        "# Step 3: Create a task for the agent (include expected_output)\n",
        "research_task = Task(\n",
        "    description=\"Summarize the top 5 trends in Artificial Intelligence for 2025.\",\n",
        "    expected_output=\"A concise, bullet-point summary of 5 key AI trends for 2025.\",\n",
        "    agent=research_agent\n",
        ")\n",
        "\n",
        "# Step 4: Create and run the crew\n",
        "crew = Crew(\n",
        "    agents=[research_agent],\n",
        "    tasks=[research_task],\n",
        "    process=Process.sequential,\n",
        "    verbose=True\n",
        ")\n",
        "\n",
        "# Run the crew\n",
        "result = crew.kickoff()\n",
        "print(result)"
      ]
    },
    {
      "cell_type": "markdown",
      "metadata": {
        "id": "cGVS2gT_0XOs"
      },
      "source": [
        "## Integrating Cerebras with CrewAI\n",
        "\n",
        "Now, let's integrate Cerebras with CrewAI to create a team of collaborative agents. First, we need to create a custom LLM class for CrewAI that uses Sutra:"
      ]
    },
    {
      "cell_type": "code",
      "execution_count": null,
      "metadata": {
        "id": "JWPYY57L0XOs"
      },
      "outputs": [],
      "source": [
        "from crewai import LLM\n",
        "\n",
        "llm = LLM(\n",
        "    model=\"cerebras/gpt-oss-120b\",\n",
        "    base_url='https://api.cerebras.ai/v1',\n",
        "    api_key=os.environ[\"CEREBRAS_API_KEY\"]\n",
        ")"
      ]
    },
    {
      "cell_type": "markdown",
      "metadata": {
        "id": "tDUKyCM80XOt"
      },
      "source": [
        "## Creating a Cultural Research Crew\n",
        "\n",
        "Let's create a crew of agents that collaborate to research and analyze aspects of Indian culture. We'll define specialized roles for each agent:"
      ]
    },
    {
      "cell_type": "code",
      "execution_count": null,
      "metadata": {
        "id": "Jy6MFpEt0XOt"
      },
      "outputs": [],
      "source": [
        "from crewai import Agent, Task, Crew, Process , BaseLLM\n",
        "\n",
        "\n",
        "# Define the agents with specialized roles\n",
        "cultural_researcher = Agent(\n",
        "    role=\"Cultural Research Specialist\",\n",
        "    goal=\"Research and gather comprehensive information about Indian cultural topics\",\n",
        "    backstory=\"\"\"You are an expert in Indian history and cultural studies with decades of experience.\n",
        "    You have deep knowledge of Indian traditions, religions, arts, and social practices across different regions.\n",
        "    You excel at gathering accurate and nuanced information about cultural topics.\"\"\",\n",
        "    verbose=True,\n",
        "    llm=llm\n",
        ")\n",
        "\n",
        "linguistic_expert = Agent(\n",
        "    role=\"Linguistic Expert\",\n",
        "    goal=\"Analyze and explain language aspects and provide translations when needed\",\n",
        "    backstory=\"\"\"You are a polyglot specializing in Indian languages including Hindi, Tamil, Bengali, Telugu,\n",
        "    Marathi, and Punjabi. You can translate between these languages and English, and explain linguistic\n",
        "    nuances, etymologies, and cultural contexts of words and phrases.\"\"\",\n",
        "    verbose=True,\n",
        "    llm=llm\n",
        ")\n",
        "\n",
        "content_writer = Agent(\n",
        "    role=\"Content Writer\",\n",
        "    goal=\"Create engaging, informative content based on research findings\",\n",
        "    backstory=\"\"\"You are a talented writer with a gift for making complex cultural topics accessible\n",
        "    and engaging. You can synthesize research into clear, compelling narratives that respect\n",
        "    the cultural nuances and authenticity of the subject matter.\"\"\",\n",
        "    verbose=True,\n",
        "    llm=llm\n",
        ")"
      ]
    },
    {
      "cell_type": "markdown",
      "metadata": {
        "id": "Sb3EAOGW0XOt"
      },
      "source": [
        "## Defining Tasks for the Crew\n",
        "\n",
        "Now, let's define specific tasks for each agent in our crew:"
      ]
    },
    {
      "cell_type": "code",
      "execution_count": null,
      "metadata": {
        "id": "UidgGumt0XOt"
      },
      "outputs": [],
      "source": [
        "# Define the tasks for our cultural research project\n",
        "research_task = Task(\n",
        "    description=\"\"\"Research the significance and history of {topic} in Indian culture.\n",
        "    Include regional variations, historical evolution, and contemporary relevance.\n",
        "    Gather facts, stories, and cultural contexts.\"\"\",\n",
        "    expected_output=\"A comprehensive research report with well-organized facts and cultural insights\",\n",
        "    agent=cultural_researcher\n",
        ")\n",
        "\n",
        "linguistic_analysis_task = Task(\n",
        "    description=\"\"\"Analyze the linguistic aspects of {topic} in Indian culture.\n",
        "    Explain key terms in relevant Indian languages, their meanings, and cultural significance.\n",
        "    Provide translations of important phrases and concepts.\"\"\",\n",
        "    expected_output=\"A detailed linguistic analysis with translations and cultural context of key terms\",\n",
        "    agent=linguistic_expert\n",
        ")\n",
        "\n",
        "content_creation_task = Task(\n",
        "    description=\"\"\"Based on the research and linguistic analysis, create an engaging and informative\n",
        "    article about {topic} in Indian culture. The content should be culturally respectful,\n",
        "    accurate, and accessible to a global audience while preserving authentic cultural nuances.\"\"\",\n",
        "    expected_output=\"A well-written, engaging article that effectively communicates the cultural significance of the topic\",\n",
        "    agent=content_writer,\n",
        "    context=[research_task, linguistic_analysis_task]  # This task depends on the output of the previous tasks\n",
        ")"
      ]
    },
    {
      "cell_type": "markdown",
      "metadata": {
        "id": "6wH7N_1_0XOu"
      },
      "source": [
        "## Forming the Crew and Executing Tasks\n",
        "\n",
        "Now, let's form our crew and execute the tasks in a sequential process:"
      ]
    },
    {
      "cell_type": "code",
      "execution_count": null,
      "metadata": {
        "id": "amIpCtvJ0XOu"
      },
      "outputs": [],
      "source": [
        "# Form the crew with our agents and tasks\n",
        "cultural_research_crew = Crew(\n",
        "    agents=[cultural_researcher, linguistic_expert, content_writer],\n",
        "    tasks=[research_task, linguistic_analysis_task, content_creation_task],\n",
        "    process=Process.sequential,  # Tasks will be executed in sequence\n",
        "    verbose=True  # Detailed output of the crew's work\n",
        ")\n",
        "\n",
        "# Execute the crew's tasks for a specific cultural topic\n",
        "result = cultural_research_crew.kickoff(\n",
        "    inputs={\"topic\": \"Diwali festival\"}\n",
        ")\n",
        "\n",
        "print(\"\\n\\nFinal Result:\\n\")\n",
        "print(result)"
      ]
    },
    {
      "cell_type": "markdown",
      "metadata": {
        "id": "UnfTHFBD0XOu"
      },
      "source": [
        "## Creating a Multilingual Content Creation Crew\n",
        "\n",
        "Let's create another crew that leverages Sutra's multilingual capabilities to create content in multiple Indian languages:"
      ]
    },
    {
      "cell_type": "code",
      "execution_count": null,
      "metadata": {
        "id": "naccAv8v0XOu"
      },
      "outputs": [],
      "source": [
        "# Define agents for multilingual content creation\n",
        "content_strategist = Agent(\n",
        "    role=\"Content Strategist\",\n",
        "    goal=\"Develop effective content strategies for multilingual audiences in India\",\n",
        "    backstory=\"\"\"You are an experienced content strategist who understands the diverse\n",
        "    linguistic landscape of India. You know how to tailor content strategies for\n",
        "    different language communities while maintaining a cohesive brand message.\"\"\",\n",
        "    verbose=True,\n",
        "    llm=llm\n",
        ")\n",
        "\n",
        "hindi_writer = Agent(\n",
        "    role=\"Hindi Content Writer\",\n",
        "    goal=\"Create engaging and culturally relevant content in Hindi\",\n",
        "    backstory=\"\"\"You are a native Hindi speaker with excellent writing skills. You understand\n",
        "    the cultural nuances of Hindi-speaking regions and can create content that resonates\n",
        "    with this audience.\"\"\",\n",
        "    verbose=True,\n",
        "    llm=llm\n",
        ")\n",
        "\n",
        "tamil_writer = Agent(\n",
        "    role=\"Tamil Content Writer\",\n",
        "    goal=\"Create engaging and culturally relevant content in Tamil\",\n",
        "    backstory=\"\"\"You are a native Tamil speaker with excellent writing skills. You understand\n",
        "    the cultural nuances of Tamil-speaking regions and can create content that resonates\n",
        "    with this audience.\"\"\",\n",
        "    verbose=True,\n",
        "    llm=llm\n",
        ")\n",
        "\n",
        "editor = Agent(\n",
        "    role=\"Multilingual Editor\",\n",
        "    goal=\"Ensure consistency and quality across multilingual content\",\n",
        "    backstory=\"\"\"You are a skilled editor who is fluent in multiple Indian languages.\n",
        "    You ensure that translations maintain the original message while being culturally\n",
        "    appropriate for each language audience.\"\"\",\n",
        "    verbose=True,\n",
        "    llm=llm\n",
        ")"
      ]
    },
    {
      "cell_type": "markdown",
      "metadata": {
        "id": "QP09YbUvGa-n"
      },
      "source": [
        "### Define tasks for multilingual content creation\n"
      ]
    },
    {
      "cell_type": "code",
      "execution_count": null,
      "metadata": {
        "id": "J1Nnx-030XOu"
      },
      "outputs": [],
      "source": [
        "# Define tasks for multilingual content creation\n",
        "strategy_task = Task(\n",
        "    description=\"\"\"Develop a content strategy for creating multilingual content about {topic}\n",
        "    for Hindi and Tamil speaking audiences. Consider cultural nuances, regional preferences,\n",
        "    and effective messaging approaches for each language community.\"\"\",\n",
        "    expected_output=\"A comprehensive content strategy document with specific guidelines for each language\",\n",
        "    agent=content_strategist\n",
        ")\n",
        "\n",
        "hindi_content_task = Task(\n",
        "    description=\"\"\"Based on the content strategy, create engaging content in Hindi about {topic}.\n",
        "    The content should be culturally relevant and resonate with Hindi-speaking audiences.\"\"\",\n",
        "    expected_output=\"High-quality Hindi content that follows the strategy guidelines\",\n",
        "    agent=hindi_writer,\n",
        "    context=[strategy_task]\n",
        ")\n",
        "\n",
        "tamil_content_task = Task(\n",
        "    description=\"\"\"Based on the content strategy, create engaging content in Tamil about {topic}.\n",
        "    The content should be culturally relevant and resonate with Tamil-speaking audiences.\"\"\",\n",
        "    expected_output=\"High-quality Tamil content that follows the strategy guidelines\",\n",
        "    agent=tamil_writer,\n",
        "    context=[strategy_task]\n",
        ")\n",
        "\n",
        "editing_task = Task(\n",
        "    description=\"\"\"Review and edit the Hindi and Tamil content about {topic}. Ensure consistency\n",
        "    with the original strategy while preserving the cultural nuances of each language.\n",
        "    Provide a final assessment of the multilingual content package.\"\"\",\n",
        "    expected_output=\"Edited versions of both language contents with an assessment report\",\n",
        "    agent=editor,\n",
        "    context=[strategy_task, hindi_content_task, tamil_content_task]\n",
        ")"
      ]
    },
    {
      "cell_type": "markdown",
      "metadata": {
        "id": "t_juidTGGY7H"
      },
      "source": [
        "### Form the multilingual content crew\n"
      ]
    },
    {
      "cell_type": "code",
      "execution_count": null,
      "metadata": {
        "collapsed": true,
        "id": "zRWWimb00XO1"
      },
      "outputs": [],
      "source": [
        "# Form the multilingual content crew\n",
        "multilingual_crew = Crew(\n",
        "    agents=[content_strategist, hindi_writer, tamil_writer, editor],\n",
        "    tasks=[strategy_task, hindi_content_task, tamil_content_task, editing_task],\n",
        "    process=Process.sequential,\n",
        "    verbose=True\n",
        ")\n",
        "\n",
        "# Execute the crew's tasks for a specific topic\n",
        "multilingual_result = multilingual_crew.kickoff(\n",
        "    inputs={\"topic\": \"sustainable living practices\"}\n",
        ")\n",
        "\n",
        "print(\"\\n\\nFinal Multilingual Content:\\n\")\n",
        "print(multilingual_result)"
      ]
    },
    {
      "cell_type": "markdown",
      "metadata": {
        "id": "K6LS4nk50XO3"
      },
      "source": [
        "## Conclusion\n",
        "\n",
        "In this notebook, we've demonstrated how to use the Cerebras model with the OpenAI client and integrate it with CrewAI to create collaborative AI agent teams. We've explored:\n",
        "\n",
        "1. Basic usage of Sutra with the OpenAI client\n",
        "2. Creating a custom LLM class for CrewAI that uses gpt-oss-120b Model\n",
        "3. Building a cultural research crew with specialized agents\n",
        "4. Creating a multilingual content creation crew that leverages Multiple language capabilities\n"
      ]
    }
  ],
  "metadata": {
    "colab": {
      "provenance": []
    },
    "kernelspec": {
      "display_name": "Python 3",
      "name": "python3"
    },
    "language_info": {
      "name": "python"
    }
  },
  "nbformat": 4,
  "nbformat_minor": 0
}